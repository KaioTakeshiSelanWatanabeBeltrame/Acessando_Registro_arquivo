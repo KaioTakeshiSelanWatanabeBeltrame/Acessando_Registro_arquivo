{
  "nbformat": 4,
  "nbformat_minor": 0,
  "metadata": {
    "colab": {
      "provenance": [],
      "mount_file_id": "1rM1Pe2L4E5s1yQqlh6WMCIzpzhzQiIXu",
      "authorship_tag": "ABX9TyMRhQezZUmigoMtbyBNvSqn",
      "include_colab_link": true
    },
    "kernelspec": {
      "name": "python3",
      "display_name": "Python 3"
    },
    "language_info": {
      "name": "python"
    }
  },
  "cells": [
    {
      "cell_type": "markdown",
      "metadata": {
        "id": "view-in-github",
        "colab_type": "text"
      },
      "source": [
        "<a href=\"https://colab.research.google.com/github/KaioTakeshiSelanWatanabeBeltrame/Acessando_Registro_arquivo/blob/main/Acessando_Registro_arquivo.ipynb\" target=\"_parent\"><img src=\"https://colab.research.google.com/assets/colab-badge.svg\" alt=\"Open In Colab\"/></a>"
      ]
    },
    {
      "cell_type": "code",
      "source": [
        "import time\n",
        "\n",
        "def openLog(nomearq, modo = 'r'):\n",
        "    arqEntrada = open(nomearq, modo)\n",
        "\n",
        "    now = time.localtime()\n",
        "    nowFormat = time.strftime('%A %b/%d/%y %I:%M %p', now)\n",
        "\n",
        "    arqSaída = open('Kaio Takeshi.txt' , 'a')\n",
        "    log = '{}: Arquivo {} aberto.\\n'\n",
        "    arqSaída.write(log.format(nowFormat, nomearq))\n",
        "    arqSaída.close()\n",
        "\n",
        "    print('Registro realizado')\n",
        "\n",
        "    return arqEntrada"
      ],
      "metadata": {
        "id": "4pXUV8j216bW"
      },
      "execution_count": 29,
      "outputs": []
    },
    {
      "cell_type": "code",
      "source": [
        "openLog('/content/drive/MyDrive/Kaio Takeshi.txt')"
      ],
      "metadata": {
        "colab": {
          "base_uri": "https://localhost:8080/"
        },
        "id": "cWRIE68j_mf0",
        "outputId": "d0fa59a4-83a7-48aa-8689-ea2310b1d31b"
      },
      "execution_count": 30,
      "outputs": [
        {
          "output_type": "stream",
          "name": "stdout",
          "text": [
            "Registro realizado\n"
          ]
        },
        {
          "output_type": "execute_result",
          "data": {
            "text/plain": [
              "<_io.TextIOWrapper name='/content/drive/MyDrive/Kaio Takeshi.txt' mode='r' encoding='utf-8'>"
            ]
          },
          "metadata": {},
          "execution_count": 30
        }
      ]
    }
  ]
}